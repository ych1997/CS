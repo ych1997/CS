{
 "cells": [
  {
   "cell_type": "code",
   "execution_count": 1,
   "metadata": {},
   "outputs": [
    {
     "name": "stdout",
     "output_type": "stream",
     "text": [
      "請輸入年份: 2000\n",
      "閏年\n",
      "輸入0為繼續，其他則結束0\n",
      "請輸入年份: 2020\n",
      "閏年\n",
      "輸入0為繼續，其他則結束0\n",
      "請輸入年份: 1900\n",
      "平年\n",
      "輸入0為繼續，其他則結束0\n",
      "請輸入年份: -1000\n",
      "輸入有誤，請重新輸入！\n",
      "請輸入年份: -209\n",
      "輸入有誤，請重新輸入！\n",
      "請輸入年份: 100\n",
      "平年\n",
      "輸入0為繼續，其他則結束d\n"
     ]
    }
   ],
   "source": [
    "choose='0'\n",
    "year=int(input(\"請輸入年份: \"))\n",
    "\"\"\"\n",
    "print(year%400)\n",
    "print(year%100)\n",
    "print(year%4)\n",
    "\"\"\"\n",
    "while(year<0 or choose=='0'):\n",
    "\tif year<0:\n",
    "\t\tprint(\"輸入有誤，請重新輸入！\")\n",
    "\t\tyear=int(input(\"請輸入年份: \"))\n",
    "\telse:\n",
    "\t\tif year%400==0 :\n",
    "\t\t\tprint(\"閏年\")\n",
    "\t\telif year%100==0 and year%400!=0:\n",
    "\t\t\tprint(\"平年\")\n",
    "\t\telif year%100!=0 and year%4==0:\n",
    "\t\t\tprint(\"閏年\")\n",
    "\t\telse:\n",
    "\t\t\tprint(\"平年\")\n",
    "\t\tchoose=input(\"輸入0為繼續，其他則結束\")\n",
    "\t\tif choose=='0':\n",
    "\t\t\tyear=int(input(\"請輸入年份: \"))"
   ]
  },
  {
   "cell_type": "code",
   "execution_count": null,
   "metadata": {
    "collapsed": true
   },
   "outputs": [],
   "source": []
  }
 ],
 "metadata": {
  "kernelspec": {
   "display_name": "Python 3",
   "language": "python",
   "name": "python3"
  },
  "language_info": {
   "codemirror_mode": {
    "name": "ipython",
    "version": 3
   },
   "file_extension": ".py",
   "mimetype": "text/x-python",
   "name": "python",
   "nbconvert_exporter": "python",
   "pygments_lexer": "ipython3",
   "version": "3.6.2"
  }
 },
 "nbformat": 4,
 "nbformat_minor": 2
}

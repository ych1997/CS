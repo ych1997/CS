{
  "nbformat": 4,
  "nbformat_minor": 0,
  "metadata": {
    "colab": {
      "name": "final-hw-2.ipynb",
      "provenance": [],
      "collapsed_sections": [],
      "authorship_tag": "ABX9TyOridVld7MlqCvbXiSprbyr",
      "include_colab_link": true
    },
    "kernelspec": {
      "name": "python3",
      "display_name": "Python 3"
    }
  },
  "cells": [
    {
      "cell_type": "markdown",
      "metadata": {
        "id": "view-in-github",
        "colab_type": "text"
      },
      "source": [
        "<a href=\"https://colab.research.google.com/github/ych1997/CS/blob/master/final_hw_2.ipynb\" target=\"_parent\"><img src=\"https://colab.research.google.com/assets/colab-badge.svg\" alt=\"Open In Colab\"/></a>"
      ]
    },
    {
      "cell_type": "markdown",
      "metadata": {
        "id": "E6sVCdv3839h",
        "colab_type": "text"
      },
      "source": [
        "1: 切換 TensorFlow 版本至 2.x"
      ]
    },
    {
      "cell_type": "code",
      "metadata": {
        "id": "KWYpoY-88z3q",
        "colab_type": "code",
        "colab": {}
      },
      "source": [
        "%tensorflow_version 2.x"
      ],
      "execution_count": 0,
      "outputs": []
    },
    {
      "cell_type": "markdown",
      "metadata": {
        "id": "mvZj-XVNQaUr",
        "colab_type": "text"
      },
      "source": [
        "2: 載入套件及資料集"
      ]
    },
    {
      "cell_type": "code",
      "metadata": {
        "id": "jF4kC9sg88t6",
        "colab_type": "code",
        "colab": {}
      },
      "source": [
        "# Import some useful packages\n",
        "import matplotlib.pyplot as plt\n",
        "import numpy as np\n",
        "\n",
        "# Layers for FNN\n",
        "from tensorflow.keras.models import Sequential\n",
        "from tensorflow.keras.layers import Dense\n",
        "from tensorflow.keras.layers import Flatten\n",
        "\n",
        "# Layers for CNN\n",
        "from tensorflow.keras.layers import Conv2D, MaxPool2D, GlobalAveragePooling2D\n",
        "\n",
        "from tensorflow.keras.optimizers import SGD, Adam\n",
        "\n",
        "# For data preprocessing\n",
        "from tensorflow.keras import datasets\n",
        "from tensorflow.keras.utils import to_categorical\n",
        "\n",
        "#mnist\n",
        "from tensorflow.keras.datasets import mnist"
      ],
      "execution_count": 0,
      "outputs": []
    },
    {
      "cell_type": "markdown",
      "metadata": {
        "id": "mvHYVsVSQg99",
        "colab_type": "text"
      },
      "source": [
        "# 3: 資料前處理 (Data Preprocessing)"
      ]
    },
    {
      "cell_type": "code",
      "metadata": {
        "id": "kXtQGmhkQh-C",
        "colab_type": "code",
        "colab": {}
      },
      "source": [
        "name_list = ['0', '1', '2', '3', '4', '5', '6', '7', '8', '9']"
      ],
      "execution_count": 0,
      "outputs": []
    },
    {
      "cell_type": "code",
      "metadata": {
        "id": "hgfoRGFRQsoR",
        "colab_type": "code",
        "colab": {}
      },
      "source": [
        "# Load CIFAR 10\n",
        "(X_train, y_train0), (X_test, y_test0) = mnist.load_data()\n",
        "\n",
        "# Normalize the range of featurs\n",
        "X_train = X_train / X_train.max()\n",
        "X_test = X_test / X_test.max()\n",
        "\n",
        "# One-hot encoding\n",
        "y_train = to_categorical(y_train0, 10)\n",
        "y_test = to_categorical(y_test0, 10)"
      ],
      "execution_count": 0,
      "outputs": []
    },
    {
      "cell_type": "code",
      "metadata": {
        "id": "Cuetv0gIQuIV",
        "colab_type": "code",
        "outputId": "15cd6655-216b-4bf2-eae8-a752ce8ca6a4",
        "colab": {
          "base_uri": "https://localhost:8080/",
          "height": 264
        }
      },
      "source": [
        "idx = np.random.randint(X_train.shape[0])\n",
        "X_sample = X_train[idx]\n",
        "y_sample = y_train0[idx].squeeze()\n",
        "\n",
        "plt.imshow(X_sample)\n",
        "plt.title(name_list[y_sample])\n",
        "plt.axis('off');"
      ],
      "execution_count": 5,
      "outputs": [
        {
          "output_type": "display_data",
          "data": {
            "image/png": "[encoded data removed]",
            "text/plain": [
              "<Figure size 432x288 with 1 Axes>"
            ]
          },
          "metadata": {
            "tags": [],
            "needs_background": "light"
          }
        }
      ]
    },
    {
      "cell_type": "code",
      "metadata": {
        "id": "bfrSpKRgFW1r",
        "colab_type": "code",
        "outputId": "49b792a9-7199-4913-c675-f4ec2623eafa",
        "colab": {
          "base_uri": "https://localhost:8080/",
          "height": 34
        }
      },
      "source": [
        "X_train[87].shape"
      ],
      "execution_count": 6,
      "outputs": [
        {
          "output_type": "execute_result",
          "data": {
            "text/plain": [
              "(28, 28)"
            ]
          },
          "metadata": {
            "tags": []
          },
          "execution_count": 6
        }
      ]
    },
    {
      "cell_type": "code",
      "metadata": {
        "id": "Y-oUdu3mFn2E",
        "colab_type": "code",
        "colab": {}
      },
      "source": [
        "X_train=X_train.reshape(60000,28,28,1)#正規化\n",
        "X_test=X_test.reshape(10000,28,28,1)#正規化"
      ],
      "execution_count": 0,
      "outputs": []
    },
    {
      "cell_type": "code",
      "metadata": {
        "id": "Jd-nJ_sRF08C",
        "colab_type": "code",
        "outputId": "a6447913-7f89-49f1-d323-08b55815539a",
        "colab": {
          "base_uri": "https://localhost:8080/",
          "height": 34
        }
      },
      "source": [
        "X_train[87].shape"
      ],
      "execution_count": 8,
      "outputs": [
        {
          "output_type": "execute_result",
          "data": {
            "text/plain": [
              "(28, 28, 1)"
            ]
          },
          "metadata": {
            "tags": []
          },
          "execution_count": 8
        }
      ]
    },
    {
      "cell_type": "markdown",
      "metadata": {
        "id": "f9JOFHjPQzXh",
        "colab_type": "text"
      },
      "source": [
        "# 4: 建立用於分類 CIFAR 10 的卷積神經網路\n",
        "在這個部分，我們將逐步帶領大家建立經典的 CNN 模型 LeNet-5 的變形。\n",
        "LeNet-5 分成兩個部分，分別為卷積層與全連接層，兩部份之間是透過扁平層 (Flatten) ，將卷積層最後輸出的 2 維向量壓扁成 1 維向量。"
      ]
    },
    {
      "cell_type": "code",
      "metadata": {
        "id": "39P-JSnoQv9r",
        "colab_type": "code",
        "colab": {}
      },
      "source": [
        "model = Sequential()\n",
        "\n",
        "# First convolutional block\n",
        "model.add(Conv2D(16, (3, 3), input_shape=(28, 28,1), padding='same', activation='relu'))\n",
        "model.add(MaxPool2D())\n",
        "\n",
        "# Second convolutional block\n",
        "model.add(Conv2D(32, (3, 3), padding='same', activation='relu'))\n",
        "model.add(MaxPool2D())\n",
        "\n",
        "# Third convolutional block\n",
        "model.add(Conv2D(64, (3, 3), padding='same', activation='relu'))\n",
        "model.add(GlobalAveragePooling2D()) #全域平均池化層\n",
        "\n",
        "# Fully-connected layers as a classfier\n",
        "model.add(Dense(units=54, activation='relu'))\n",
        "\n",
        "# Ouput layer: # of neurons = # of classes with softmax activation\n",
        "model.add(Dense(units=10, activation='softmax')) #輸出是固定的"
      ],
      "execution_count": 0,
      "outputs": []
    },
    {
      "cell_type": "code",
      "metadata": {
        "id": "m5Tvz90EQ4Bf",
        "colab_type": "code",
        "outputId": "efc029b0-2d95-4d5e-ff68-eddce0d385be",
        "colab": {
          "base_uri": "https://localhost:8080/",
          "height": 425
        }
      },
      "source": [
        "model.summary()"
      ],
      "execution_count": 10,
      "outputs": [
        {
          "output_type": "stream",
          "text": [
            "Model: \"sequential\"\n",
            "_________________________________________________________________\n",
            "Layer (type)                 Output Shape              Param #   \n",
            "=================================================================\n",
            "conv2d (Conv2D)              (None, 28, 28, 16)        160       \n",
            "_________________________________________________________________\n",
            "max_pooling2d (MaxPooling2D) (None, 14, 14, 16)        0         \n",
            "_________________________________________________________________\n",
            "conv2d_1 (Conv2D)            (None, 14, 14, 32)        4640      \n",
            "_________________________________________________________________\n",
            "max_pooling2d_1 (MaxPooling2 (None, 7, 7, 32)          0         \n",
            "_________________________________________________________________\n",
            "conv2d_2 (Conv2D)            (None, 7, 7, 64)          18496     \n",
            "_________________________________________________________________\n",
            "global_average_pooling2d (Gl (None, 64)                0         \n",
            "_________________________________________________________________\n",
            "dense (Dense)                (None, 54)                3510      \n",
            "_________________________________________________________________\n",
            "dense_1 (Dense)              (None, 10)                550       \n",
            "=================================================================\n",
            "Total params: 27,356\n",
            "Trainable params: 27,356\n",
            "Non-trainable params: 0\n",
            "_________________________________________________________________\n"
          ],
          "name": "stdout"
        }
      ]
    },
    {
      "cell_type": "markdown",
      "metadata": {
        "id": "dJbJdklCQ8Am",
        "colab_type": "text"
      },
      "source": [
        "# 編譯模型: 設定模型訓練時的設定\n",
        "\n",
        "Optimizer: Stochastic Gradient Descent (SGD)\n",
        "Loss: categorical cross-entropy"
      ]
    },
    {
      "cell_type": "code",
      "metadata": {
        "id": "ZXzmXpQOQ5qG",
        "colab_type": "code",
        "colab": {}
      },
      "source": [
        "model.compile(loss='categorical_crossentropy', \n",
        "              optimizer=Adam(),\n",
        "              metrics=['categorical_accuracy'])"
      ],
      "execution_count": 0,
      "outputs": []
    },
    {
      "cell_type": "markdown",
      "metadata": {
        "id": "j6kjRQKJRA3h",
        "colab_type": "text"
      },
      "source": [
        "# 訓練模型: 透過訓練來學習分類資料的函數"
      ]
    },
    {
      "cell_type": "code",
      "metadata": {
        "id": "EgZWrDCsQ-zl",
        "colab_type": "code",
        "outputId": "0214e77b-726e-4c96-b69e-f788652b90cb",
        "colab": {
          "base_uri": "https://localhost:8080/",
          "height": 1000
        }
      },
      "source": [
        "model.fit(X_train, y_train, \n",
        "          batch_size=128, \n",
        "          epochs=3,\n",
        "          validation_data=(X_test, y_test)\n",
        "          )"
      ],
      "execution_count": 12,
      "outputs": [
        {
          "output_type": "stream",
          "text": [
            "Epoch 1/3\n",
            "469/469 [==============================] - 43s 91ms/step - loss: 1.0193 - categorical_accuracy: 0.6625 - val_loss: 0.4790 - val_categorical_accuracy: 0.8452\n",
            "Epoch 2/3\n",
            "469/469 [==============================] - 40s 84ms/step - loss: 0.3794 - categorical_accuracy: 0.8826 - val_loss: 0.2959 - val_categorical_accuracy: 0.9119\n",
            "Epoch 3/3\n",
            "469/469 [==============================] - 39s 84ms/step - loss: 0.2734 - categorical_accuracy: 0.9163 - val_loss: 0.2130 - val_categorical_accuracy: 0.9345\n"
          ],
          "name": "stdout"
        },
        {
          "output_type": "execute_result",
          "data": {
            "text/plain": [
              "<tensorflow.python.keras.callbacks.History at 0x7f5023dbf978>"
            ]
          },
          "metadata": {
            "tags": []
          },
          "execution_count": 12
        }
      ]
    },
    {
      "cell_type": "code",
      "metadata": {
        "id": "j7AzaCekRD4T",
        "colab_type": "code",
        "colab": {}
      },
      "source": [
        "model.save_weights('LeNet5_CIFAR10.h5')"
      ],
      "execution_count": 0,
      "outputs": []
    },
    {
      "cell_type": "markdown",
      "metadata": {
        "id": "VyfaGGrKS8am",
        "colab_type": "text"
      },
      "source": [
        "模型預測: 預測資料集的準確率"
      ]
    },
    {
      "cell_type": "code",
      "metadata": {
        "id": "aWdNYS1dS9Kw",
        "colab_type": "code",
        "outputId": "225dacf8-8ddc-4220-8c20-c8ca95a503b7",
        "colab": {
          "base_uri": "https://localhost:8080/",
          "height": 85
        }
      },
      "source": [
        "model.load_weights('LeNet5_CIFAR10.h5')\n",
        "\n",
        "score_train = model.evaluate(X_train, y_train)\n",
        "score_test = model.evaluate(X_test, y_test)\n",
        "\n",
        "print(f'Train Accuracy: {score_train[1]*100}')\n",
        "print(f'Test Accuracy: {score_test[1]*100}')"
      ],
      "execution_count": 14,
      "outputs": [
        {
          "output_type": "stream",
          "text": [
            "1875/1875 [==============================] - 17s 9ms/step - loss: 0.2292 - categorical_accuracy: 0.9298\n",
            "313/313 [==============================] - 3s 9ms/step - loss: 0.2130 - categorical_accuracy: 0.9345\n",
            "Train Accuracy: 92.98499822616577\n",
            "Test Accuracy: 93.4499979019165\n"
          ],
          "name": "stdout"
        }
      ]
    },
    {
      "cell_type": "code",
      "metadata": {
        "id": "PhIS4GWgS_eY",
        "colab_type": "code",
        "outputId": "c450f232-ab59-481c-a58d-2240269bdb62",
        "colab": {
          "base_uri": "https://localhost:8080/",
          "height": 153
        }
      },
      "source": [
        "model.layers"
      ],
      "execution_count": 15,
      "outputs": [
        {
          "output_type": "execute_result",
          "data": {
            "text/plain": [
              "[<tensorflow.python.keras.layers.convolutional.Conv2D at 0x7f502a072320>,\n",
              " <tensorflow.python.keras.layers.pooling.MaxPooling2D at 0x7f502a072c50>,\n",
              " <tensorflow.python.keras.layers.convolutional.Conv2D at 0x7f502a072ba8>,\n",
              " <tensorflow.python.keras.layers.pooling.MaxPooling2D at 0x7f5029857278>,\n",
              " <tensorflow.python.keras.layers.convolutional.Conv2D at 0x7f502a072c88>,\n",
              " <tensorflow.python.keras.layers.pooling.GlobalAveragePooling2D at 0x7f5023dce6d8>,\n",
              " <tensorflow.python.keras.layers.core.Dense at 0x7f5029857710>,\n",
              " <tensorflow.python.keras.layers.core.Dense at 0x7f5029857be0>]"
            ]
          },
          "metadata": {
            "tags": []
          },
          "execution_count": 15
        }
      ]
    },
    {
      "cell_type": "markdown",
      "metadata": {
        "id": "eKrLipEATDdR",
        "colab_type": "text"
      },
      "source": [
        "# 5: 另一種使用 Sequential 建立模型的方式"
      ]
    },
    {
      "cell_type": "code",
      "metadata": {
        "id": "ey8Yq7s3TBpX",
        "colab_type": "code",
        "colab": {}
      },
      "source": [
        "CNN_layers = [Conv2D(16, (3, 3), input_shape=(28, 28, 1), padding='same', activation='relu', name='Conv_1'),\n",
        "              MaxPool2D(),\n",
        "              Conv2D(32, (3, 3), padding='same', activation='relu', name='Conv_2'),\n",
        "              MaxPool2D(),\n",
        "              Conv2D(64, (3, 3), padding='same', activation='relu', name='Conv_3'),\n",
        "              GlobalAveragePooling2D()]\n",
        "\n",
        "FC_layers = [Dense(units=54, activation='relu'),\n",
        "             Dense(units=10, activation='softmax')]"
      ],
      "execution_count": 0,
      "outputs": []
    },
    {
      "cell_type": "code",
      "metadata": {
        "id": "TwQ2MBfrTGNY",
        "colab_type": "code",
        "outputId": "53527be1-3076-4c6b-d7b9-26b429bd6739",
        "colab": {
          "base_uri": "https://localhost:8080/",
          "height": 153
        }
      },
      "source": [
        "CNN_layers + FC_layers"
      ],
      "execution_count": 17,
      "outputs": [
        {
          "output_type": "execute_result",
          "data": {
            "text/plain": [
              "[<tensorflow.python.keras.layers.convolutional.Conv2D at 0x7f502cc40e48>,\n",
              " <tensorflow.python.keras.layers.pooling.MaxPooling2D at 0x7f502cc40f98>,\n",
              " <tensorflow.python.keras.layers.convolutional.Conv2D at 0x7f5023c41e10>,\n",
              " <tensorflow.python.keras.layers.pooling.MaxPooling2D at 0x7f502cc40e80>,\n",
              " <tensorflow.python.keras.layers.convolutional.Conv2D at 0x7f502cc40d30>,\n",
              " <tensorflow.python.keras.layers.pooling.GlobalAveragePooling2D at 0x7f502982df60>,\n",
              " <tensorflow.python.keras.layers.core.Dense at 0x7f5023dceba8>,\n",
              " <tensorflow.python.keras.layers.core.Dense at 0x7f502cc40f60>]"
            ]
          },
          "metadata": {
            "tags": []
          },
          "execution_count": 17
        }
      ]
    },
    {
      "cell_type": "code",
      "metadata": {
        "id": "P0grCAt6TH3f",
        "colab_type": "code",
        "outputId": "e51316b5-7c6a-4578-b541-90ec0ca8b2d3",
        "colab": {
          "base_uri": "https://localhost:8080/",
          "height": 425
        }
      },
      "source": [
        "model.summary()"
      ],
      "execution_count": 18,
      "outputs": [
        {
          "output_type": "stream",
          "text": [
            "Model: \"sequential\"\n",
            "_________________________________________________________________\n",
            "Layer (type)                 Output Shape              Param #   \n",
            "=================================================================\n",
            "conv2d (Conv2D)              (None, 28, 28, 16)        160       \n",
            "_________________________________________________________________\n",
            "max_pooling2d (MaxPooling2D) (None, 14, 14, 16)        0         \n",
            "_________________________________________________________________\n",
            "conv2d_1 (Conv2D)            (None, 14, 14, 32)        4640      \n",
            "_________________________________________________________________\n",
            "max_pooling2d_1 (MaxPooling2 (None, 7, 7, 32)          0         \n",
            "_________________________________________________________________\n",
            "conv2d_2 (Conv2D)            (None, 7, 7, 64)          18496     \n",
            "_________________________________________________________________\n",
            "global_average_pooling2d (Gl (None, 64)                0         \n",
            "_________________________________________________________________\n",
            "dense (Dense)                (None, 54)                3510      \n",
            "_________________________________________________________________\n",
            "dense_1 (Dense)              (None, 10)                550       \n",
            "=================================================================\n",
            "Total params: 27,356\n",
            "Trainable params: 27,356\n",
            "Non-trainable params: 0\n",
            "_________________________________________________________________\n"
          ],
          "name": "stdout"
        }
      ]
    },
    {
      "cell_type": "code",
      "metadata": {
        "id": "CMr17P44TJOy",
        "colab_type": "code",
        "outputId": "dc31786d-e8a8-4d36-abb7-a886be0ef046",
        "colab": {
          "base_uri": "https://localhost:8080/",
          "height": 425
        }
      },
      "source": [
        "model_2 = Sequential(CNN_layers+FC_layers)\n",
        "model_2.summary()"
      ],
      "execution_count": 19,
      "outputs": [
        {
          "output_type": "stream",
          "text": [
            "Model: \"sequential_1\"\n",
            "_________________________________________________________________\n",
            "Layer (type)                 Output Shape              Param #   \n",
            "=================================================================\n",
            "Conv_1 (Conv2D)              (None, 28, 28, 16)        160       \n",
            "_________________________________________________________________\n",
            "max_pooling2d_2 (MaxPooling2 (None, 14, 14, 16)        0         \n",
            "_________________________________________________________________\n",
            "Conv_2 (Conv2D)              (None, 14, 14, 32)        4640      \n",
            "_________________________________________________________________\n",
            "max_pooling2d_3 (MaxPooling2 (None, 7, 7, 32)          0         \n",
            "_________________________________________________________________\n",
            "Conv_3 (Conv2D)              (None, 7, 7, 64)          18496     \n",
            "_________________________________________________________________\n",
            "global_average_pooling2d_1 ( (None, 64)                0         \n",
            "_________________________________________________________________\n",
            "dense_2 (Dense)              (None, 54)                3510      \n",
            "_________________________________________________________________\n",
            "dense_3 (Dense)              (None, 10)                550       \n",
            "=================================================================\n",
            "Total params: 27,356\n",
            "Trainable params: 27,356\n",
            "Non-trainable params: 0\n",
            "_________________________________________________________________\n"
          ],
          "name": "stdout"
        }
      ]
    },
    {
      "cell_type": "markdown",
      "metadata": {
        "id": "MjxChNJGjijM",
        "colab_type": "text"
      },
      "source": [
        "# 與使用 model.add 建立模型的差異？"
      ]
    },
    {
      "cell_type": "code",
      "metadata": {
        "id": "mTQDP6yGTKqu",
        "colab_type": "code",
        "colab": {}
      },
      "source": [
        "model_2.compile(loss='categorical_crossentropy', \n",
        "                optimizer=Adam(),\n",
        "                metrics=['categorical_accuracy'])\n",
        "\n",
        "model_2.load_weights('LeNet5_CIFAR10.h5')"
      ],
      "execution_count": 0,
      "outputs": []
    },
    {
      "cell_type": "code",
      "metadata": {
        "id": "nrM4j2-SjlLS",
        "colab_type": "code",
        "outputId": "746279e2-369c-4802-fc18-171fdf736c32",
        "colab": {
          "base_uri": "https://localhost:8080/",
          "height": 85
        }
      },
      "source": [
        "score_train = model_2.evaluate(X_train, y_train, batch_size=1024)\n",
        "score_test = model_2.evaluate(X_test, y_test, batch_size=1024)\n",
        "\n",
        "print(f'Train Accuracy: {score_train[1]*100}')\n",
        "print(f'Test Accuracy: {score_test[1]*100}')"
      ],
      "execution_count": 21,
      "outputs": [
        {
          "output_type": "stream",
          "text": [
            "59/59 [==============================] - 12s 196ms/step - loss: 0.2292 - categorical_accuracy: 0.9298\n",
            "10/10 [==============================] - 2s 178ms/step - loss: 0.2130 - categorical_accuracy: 0.9345\n",
            "Train Accuracy: 92.98499822616577\n",
            "Test Accuracy: 93.4499979019165\n"
          ],
          "name": "stdout"
        }
      ]
    },
    {
      "cell_type": "markdown",
      "metadata": {
        "id": "AqrofzFRjpAy",
        "colab_type": "text"
      },
      "source": [
        "# 6: 遷移學習 (Transfer Learning) 中的 Layer Transfer 的技巧"
      ]
    },
    {
      "cell_type": "code",
      "metadata": {
        "id": "CA0RshULjxpa",
        "colab_type": "code",
        "colab": {}
      },
      "source": [
        "# Load CIFAR 100\n",
        "(U_train, v_train0), (U_test, v_test0) = datasets.cifar100.load_data()\n",
        "\n",
        "\n",
        "# Normalize the range of featurs\n",
        "U_train = U_train / U_train.max()\n",
        "U_test = U_test / U_test.max()\n",
        "\n",
        "# One-hot encoding\n",
        "v_train = to_categorical(v_train0, 100)\n",
        "v_test = to_categorical(v_test0, 100)"
      ],
      "execution_count": 0,
      "outputs": []
    },
    {
      "cell_type": "code",
      "metadata": {
        "id": "2kpd7Mj1H0Wb",
        "colab_type": "code",
        "outputId": "6b58c67a-84be-4dc9-8684-fe2239e7b0a1",
        "colab": {
          "base_uri": "https://localhost:8080/",
          "height": 34
        }
      },
      "source": [
        "U_train[87].shape"
      ],
      "execution_count": 23,
      "outputs": [
        {
          "output_type": "execute_result",
          "data": {
            "text/plain": [
              "(32, 32, 3)"
            ]
          },
          "metadata": {
            "tags": []
          },
          "execution_count": 23
        }
      ]
    },
    {
      "cell_type": "code",
      "metadata": {
        "id": "90TPmgrLjyRx",
        "colab_type": "code",
        "colab": {}
      },
      "source": [
        "CNN_layers = [Conv2D(16, (3, 3), input_shape=(32, 32, 3), padding='same', activation='relu', name='Conv_1'),\n",
        "              MaxPool2D(),\n",
        "              Conv2D(32, (3, 3), padding='same', activation='relu', name='Conv_2'),\n",
        "              MaxPool2D(),\n",
        "              Conv2D(64, (3, 3), padding='same', activation='relu', name='Conv_3'),\n",
        "              GlobalAveragePooling2D()]\n",
        " \n",
        "FC_layers = [Dense(units=54, activation='relu'),\n",
        "             Dense(units=100, activation='softmax')]"
      ],
      "execution_count": 0,
      "outputs": []
    },
    {
      "cell_type": "markdown",
      "metadata": {
        "id": "GBXY3HIlj1w-",
        "colab_type": "text"
      },
      "source": [
        "LeNet-5 for CIFAR-100"
      ]
    },
    {
      "cell_type": "code",
      "metadata": {
        "id": "8jwSpCcLjzup",
        "colab_type": "code",
        "colab": {}
      },
      "source": [
        "# From LeNet-5 for CIFAR-10\n",
        "CNN_layers\n",
        " \n",
        "# New FC layers for CIFAR-100\n",
        "FC_layers_CF100 = [Dense(units=15, activation='relu'),\n",
        "                   Dense(units=30, activation='relu'),\n",
        "                   Dense(units=100, activation='softmax')]"
      ],
      "execution_count": 0,
      "outputs": []
    },
    {
      "cell_type": "markdown",
      "metadata": {
        "id": "4gQnKLGvj4Nn",
        "colab_type": "text"
      },
      "source": [
        "CNN_layers 是跟人家借來的。"
      ]
    },
    {
      "cell_type": "code",
      "metadata": {
        "id": "QvFilG4nj5rQ",
        "colab_type": "code",
        "colab": {}
      },
      "source": [
        "FC_layers_CF100 = [Dense(units=15, activation='relu'),\n",
        "                   Dense(units=30, activation='relu'),\n",
        "                   Dense(units=100, activation='softmax')]"
      ],
      "execution_count": 0,
      "outputs": []
    },
    {
      "cell_type": "code",
      "metadata": {
        "id": "umU6-JwNj7aU",
        "colab_type": "code",
        "outputId": "86484848-210e-4a6e-da33-4f42143dfb88",
        "colab": {
          "base_uri": "https://localhost:8080/",
          "height": 459
        }
      },
      "source": [
        "model_CF100 = Sequential(CNN_layers+FC_layers_CF100)\n",
        "model_CF100.summary()"
      ],
      "execution_count": 27,
      "outputs": [
        {
          "output_type": "stream",
          "text": [
            "Model: \"sequential_2\"\n",
            "_________________________________________________________________\n",
            "Layer (type)                 Output Shape              Param #   \n",
            "=================================================================\n",
            "Conv_1 (Conv2D)              (None, 32, 32, 16)        448       \n",
            "_________________________________________________________________\n",
            "max_pooling2d_4 (MaxPooling2 (None, 16, 16, 16)        0         \n",
            "_________________________________________________________________\n",
            "Conv_2 (Conv2D)              (None, 16, 16, 32)        4640      \n",
            "_________________________________________________________________\n",
            "max_pooling2d_5 (MaxPooling2 (None, 8, 8, 32)          0         \n",
            "_________________________________________________________________\n",
            "Conv_3 (Conv2D)              (None, 8, 8, 64)          18496     \n",
            "_________________________________________________________________\n",
            "global_average_pooling2d_2 ( (None, 64)                0         \n",
            "_________________________________________________________________\n",
            "dense_9 (Dense)              (None, 15)                975       \n",
            "_________________________________________________________________\n",
            "dense_10 (Dense)             (None, 30)                480       \n",
            "_________________________________________________________________\n",
            "dense_11 (Dense)             (None, 100)               3100      \n",
            "=================================================================\n",
            "Total params: 28,139\n",
            "Trainable params: 28,139\n",
            "Non-trainable params: 0\n",
            "_________________________________________________________________\n"
          ],
          "name": "stdout"
        }
      ]
    },
    {
      "cell_type": "markdown",
      "metadata": {
        "id": "EFTZfHDjj-VX",
        "colab_type": "text"
      },
      "source": [
        "對照一下和 LeNet-5 for CIFAR-10 的差別"
      ]
    },
    {
      "cell_type": "code",
      "metadata": {
        "id": "lAOZEDoPj8ro",
        "colab_type": "code",
        "outputId": "e9a2f94d-4cb0-42b2-fa93-75b5b3d38c54",
        "colab": {
          "base_uri": "https://localhost:8080/",
          "height": 425
        }
      },
      "source": [
        "model_2.summary()"
      ],
      "execution_count": 28,
      "outputs": [
        {
          "output_type": "stream",
          "text": [
            "Model: \"sequential_1\"\n",
            "_________________________________________________________________\n",
            "Layer (type)                 Output Shape              Param #   \n",
            "=================================================================\n",
            "Conv_1 (Conv2D)              (None, 28, 28, 16)        160       \n",
            "_________________________________________________________________\n",
            "max_pooling2d_2 (MaxPooling2 (None, 14, 14, 16)        0         \n",
            "_________________________________________________________________\n",
            "Conv_2 (Conv2D)              (None, 14, 14, 32)        4640      \n",
            "_________________________________________________________________\n",
            "max_pooling2d_3 (MaxPooling2 (None, 7, 7, 32)          0         \n",
            "_________________________________________________________________\n",
            "Conv_3 (Conv2D)              (None, 7, 7, 64)          18496     \n",
            "_________________________________________________________________\n",
            "global_average_pooling2d_1 ( (None, 64)                0         \n",
            "_________________________________________________________________\n",
            "dense_2 (Dense)              (None, 54)                3510      \n",
            "_________________________________________________________________\n",
            "dense_3 (Dense)              (None, 10)                550       \n",
            "=================================================================\n",
            "Total params: 27,356\n",
            "Trainable params: 27,356\n",
            "Non-trainable params: 0\n",
            "_________________________________________________________________\n"
          ],
          "name": "stdout"
        }
      ]
    },
    {
      "cell_type": "markdown",
      "metadata": {
        "id": "EXZLxAgxkFHd",
        "colab_type": "text"
      },
      "source": [
        "遷移學習的訓練方式\n",
        "\n",
        "Fine-tune: 新資料集的樣本數夠多，整個模型重新訓練\n",
        "\n",
        "Frozen: 當新資料集的樣本數不夠多，凍結借來的部分，只針對新建立的神經網路層訓練"
      ]
    },
    {
      "cell_type": "code",
      "metadata": {
        "id": "bwBkVzmGkAzM",
        "colab_type": "code",
        "colab": {}
      },
      "source": [
        "for layer in CNN_layers:\n",
        "    layer.trainable = False"
      ],
      "execution_count": 0,
      "outputs": []
    },
    {
      "cell_type": "code",
      "metadata": {
        "id": "kzft8cZ-kVdj",
        "colab_type": "code",
        "outputId": "faf8ab72-744d-450e-97ad-f092b6180e74",
        "colab": {
          "base_uri": "https://localhost:8080/",
          "height": 459
        }
      },
      "source": [
        "model_CF100.summary()"
      ],
      "execution_count": 30,
      "outputs": [
        {
          "output_type": "stream",
          "text": [
            "Model: \"sequential_2\"\n",
            "_________________________________________________________________\n",
            "Layer (type)                 Output Shape              Param #   \n",
            "=================================================================\n",
            "Conv_1 (Conv2D)              (None, 32, 32, 16)        448       \n",
            "_________________________________________________________________\n",
            "max_pooling2d_4 (MaxPooling2 (None, 16, 16, 16)        0         \n",
            "_________________________________________________________________\n",
            "Conv_2 (Conv2D)              (None, 16, 16, 32)        4640      \n",
            "_________________________________________________________________\n",
            "max_pooling2d_5 (MaxPooling2 (None, 8, 8, 32)          0         \n",
            "_________________________________________________________________\n",
            "Conv_3 (Conv2D)              (None, 8, 8, 64)          18496     \n",
            "_________________________________________________________________\n",
            "global_average_pooling2d_2 ( (None, 64)                0         \n",
            "_________________________________________________________________\n",
            "dense_9 (Dense)              (None, 15)                975       \n",
            "_________________________________________________________________\n",
            "dense_10 (Dense)             (None, 30)                480       \n",
            "_________________________________________________________________\n",
            "dense_11 (Dense)             (None, 100)               3100      \n",
            "=================================================================\n",
            "Total params: 28,139\n",
            "Trainable params: 4,555\n",
            "Non-trainable params: 23,584\n",
            "_________________________________________________________________\n"
          ],
          "name": "stdout"
        }
      ]
    },
    {
      "cell_type": "code",
      "metadata": {
        "id": "nno1_VT5kWEp",
        "colab_type": "code",
        "outputId": "a71639c9-0ce8-4049-f065-ce90e70d6273",
        "colab": {
          "base_uri": "https://localhost:8080/",
          "height": 1000
        }
      },
      "source": [
        "model_CF100.compile(loss='categorical_crossentropy', \n",
        "                    optimizer=Adam(),\n",
        "                    metrics=['categorical_accuracy'])\n",
        "\n",
        "model_CF100.fit(U_train, v_train,\n",
        "                batch_size=128, \n",
        "                epochs=5,\n",
        "                validation_data=(U_test, v_test)\n",
        "                )"
      ],
      "execution_count": 39,
      "outputs": [
        {
          "output_type": "stream",
          "text": [
            "Epoch 1/5\n",
            "391/391 [==============================] - 49s 126ms/step - loss: 4.1936 - categorical_accuracy: 0.0509 - val_loss: 4.0957 - val_categorical_accuracy: 0.0626\n",
            "Epoch 2/5\n",
            "391/391 [==============================] - 48s 122ms/step - loss: 4.0206 - categorical_accuracy: 0.0707 - val_loss: 3.9927 - val_categorical_accuracy: 0.0740\n",
            "Epoch 3/5\n",
            "391/391 [==============================] - 47s 121ms/step - loss: 3.8851 - categorical_accuracy: 0.0886 - val_loss: 3.8444 - val_categorical_accuracy: 0.0969\n",
            "Epoch 4/5\n",
            "391/391 [==============================] - 47s 121ms/step - loss: 3.7643 - categorical_accuracy: 0.1070 - val_loss: 3.7348 - val_categorical_accuracy: 0.1126\n",
            "Epoch 5/5\n",
            "391/391 [==============================] - 47s 121ms/step - loss: 3.6738 - categorical_accuracy: 0.1202 - val_loss: 3.6508 - val_categorical_accuracy: 0.1294\n"
          ],
          "name": "stdout"
        },
        {
          "output_type": "execute_result",
          "data": {
            "text/plain": [
              "<tensorflow.python.keras.callbacks.History at 0x7f5020284550>"
            ]
          },
          "metadata": {
            "tags": []
          },
          "execution_count": 39
        }
      ]
    },
    {
      "cell_type": "markdown",
      "metadata": {
        "id": "EAZ1UF3hkaU1",
        "colab_type": "text"
      },
      "source": [
        "# 借來的神經網路 (的權重) 會如何變化？Frozen 的場合"
      ]
    },
    {
      "cell_type": "code",
      "metadata": {
        "id": "FnRTrES8kYrW",
        "colab_type": "code",
        "outputId": "be9f0c98-c249-4267-d757-589304b2704c",
        "colab": {
          "base_uri": "https://localhost:8080/",
          "height": 85
        }
      },
      "source": [
        "score_train = model_2.evaluate(X_train, y_train)\n",
        "score_test = model_2.evaluate(X_test, y_test)\n",
        "\n",
        "print(f'Train Accuracy: {score_train[1]*100}')\n",
        "print(f'Test Accuracy: {score_test[1]*100}')"
      ],
      "execution_count": 40,
      "outputs": [
        {
          "output_type": "stream",
          "text": [
            "1875/1875 [==============================] - 17s 9ms/step - loss: 0.2292 - categorical_accuracy: 0.9298\n",
            "313/313 [==============================] - 3s 9ms/step - loss: 0.2130 - categorical_accuracy: 0.9345\n",
            "Train Accuracy: 92.98499822616577\n",
            "Test Accuracy: 93.4499979019165\n"
          ],
          "name": "stdout"
        }
      ]
    },
    {
      "cell_type": "markdown",
      "metadata": {
        "id": "zQfGs2m0kc2W",
        "colab_type": "text"
      },
      "source": [
        "借來的神經網路 (的權重) 會如何變化？Fine-tune 的場合"
      ]
    },
    {
      "cell_type": "code",
      "metadata": {
        "id": "mmZhJZvOkegw",
        "colab_type": "code",
        "outputId": "18547afa-c3d5-45eb-c0c2-aa27ddf7eebd",
        "colab": {
          "base_uri": "https://localhost:8080/",
          "height": 1000
        }
      },
      "source": [
        "for layer in CNN_layers:\n",
        "    layer.trainable = True\n",
        "\n",
        "model_CF100.fit(U_train, v_train,\n",
        "                batch_size=128, \n",
        "                epochs=5,\n",
        "                validation_data=(U_test, v_test)\n",
        "                )"
      ],
      "execution_count": 41,
      "outputs": [
        {
          "output_type": "stream",
          "text": [
            "Epoch 1/5\n",
            "391/391 [==============================] - 47s 119ms/step - loss: 3.5980 - categorical_accuracy: 0.1303 - val_loss: 3.6843 - val_categorical_accuracy: 0.1181\n",
            "Epoch 2/5\n",
            "391/391 [==============================] - 47s 120ms/step - loss: 3.5323 - categorical_accuracy: 0.1404 - val_loss: 3.4941 - val_categorical_accuracy: 0.1480\n",
            "Epoch 3/5\n",
            "391/391 [==============================] - 48s 122ms/step - loss: 3.4808 - categorical_accuracy: 0.1477 - val_loss: 3.4865 - val_categorical_accuracy: 0.1524\n",
            "Epoch 4/5\n",
            "391/391 [==============================] - 46s 119ms/step - loss: 3.4378 - categorical_accuracy: 0.1546 - val_loss: 3.4351 - val_categorical_accuracy: 0.1614\n",
            "Epoch 5/5\n",
            "391/391 [==============================] - 47s 120ms/step - loss: 3.3918 - categorical_accuracy: 0.1623 - val_loss: 3.3842 - val_categorical_accuracy: 0.1715\n"
          ],
          "name": "stdout"
        },
        {
          "output_type": "execute_result",
          "data": {
            "text/plain": [
              "<tensorflow.python.keras.callbacks.History at 0x7f50201070b8>"
            ]
          },
          "metadata": {
            "tags": []
          },
          "execution_count": 41
        }
      ]
    },
    {
      "cell_type": "code",
      "metadata": {
        "id": "KBN80pWKkgIA",
        "colab_type": "code",
        "outputId": "a6698287-6a6e-4b31-be2c-f31e6fc1b65f",
        "colab": {
          "base_uri": "https://localhost:8080/",
          "height": 459
        }
      },
      "source": [
        "model_CF100.summary()"
      ],
      "execution_count": 42,
      "outputs": [
        {
          "output_type": "stream",
          "text": [
            "Model: \"sequential_2\"\n",
            "_________________________________________________________________\n",
            "Layer (type)                 Output Shape              Param #   \n",
            "=================================================================\n",
            "Conv_1 (Conv2D)              (None, 32, 32, 16)        448       \n",
            "_________________________________________________________________\n",
            "max_pooling2d_4 (MaxPooling2 (None, 16, 16, 16)        0         \n",
            "_________________________________________________________________\n",
            "Conv_2 (Conv2D)              (None, 16, 16, 32)        4640      \n",
            "_________________________________________________________________\n",
            "max_pooling2d_5 (MaxPooling2 (None, 8, 8, 32)          0         \n",
            "_________________________________________________________________\n",
            "Conv_3 (Conv2D)              (None, 8, 8, 64)          18496     \n",
            "_________________________________________________________________\n",
            "global_average_pooling2d_2 ( (None, 64)                0         \n",
            "_________________________________________________________________\n",
            "dense_9 (Dense)              (None, 15)                975       \n",
            "_________________________________________________________________\n",
            "dense_10 (Dense)             (None, 30)                480       \n",
            "_________________________________________________________________\n",
            "dense_11 (Dense)             (None, 100)               3100      \n",
            "=================================================================\n",
            "Total params: 28,139\n",
            "Trainable params: 28,139\n",
            "Non-trainable params: 0\n",
            "_________________________________________________________________\n"
          ],
          "name": "stdout"
        }
      ]
    },
    {
      "cell_type": "code",
      "metadata": {
        "id": "HVKFDUiakhbc",
        "colab_type": "code",
        "outputId": "ba311abe-476d-4a2d-abd1-372f1ff6cdfe",
        "colab": {
          "base_uri": "https://localhost:8080/",
          "height": 85
        }
      },
      "source": [
        "score_train = model_2.evaluate(X_train, y_train)\n",
        "score_test = model_2.evaluate(X_test, y_test)\n",
        "\n",
        "print(f'Train Accuracy: {score_train[1]*100}')\n",
        "print(f'Test Accuracy: {score_test[1]*100}')"
      ],
      "execution_count": 43,
      "outputs": [
        {
          "output_type": "stream",
          "text": [
            "1875/1875 [==============================] - 17s 9ms/step - loss: 0.2292 - categorical_accuracy: 0.9298\n",
            "313/313 [==============================] - 3s 9ms/step - loss: 0.2130 - categorical_accuracy: 0.9345\n",
            "Train Accuracy: 92.98499822616577\n",
            "Test Accuracy: 93.4499979019165\n"
          ],
          "name": "stdout"
        }
      ]
    },
    {
      "cell_type": "markdown",
      "metadata": {
        "id": "4QRV5BRfkmYy",
        "colab_type": "text"
      },
      "source": [
        "使用 Layer Transfer 的注意事項\n",
        "若目的不同 (如；分類總數不同)，則須重新定義不同的全連接層\n",
        "若資料的輸入尺寸不同 (如：channel 數不同)，則也需針對輸入的部分調整"
      ]
    },
    {
      "cell_type": "code",
      "metadata": {
        "id": "l5xCzzyqzBz-",
        "colab_type": "code",
        "colab": {}
      },
      "source": [
        ""
      ],
      "execution_count": 0,
      "outputs": []
    }
  ]
}
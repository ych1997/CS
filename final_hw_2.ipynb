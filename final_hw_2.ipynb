{
  "nbformat": 4,
  "nbformat_minor": 0,
  "metadata": {
    "colab": {
      "name": "final-hw-2.ipynb",
      "provenance": [],
      "collapsed_sections": [],
      "authorship_tag": "ABX9TyMU+dhxkH6LyO5MH9yoWQzM",
      "include_colab_link": true
    },
    "kernelspec": {
      "name": "python3",
      "display_name": "Python 3"
    }
  },
  "cells": [
    {
      "cell_type": "markdown",
      "metadata": {
        "id": "view-in-github",
        "colab_type": "text"
      },
      "source": [
        "<a href=\"https://colab.research.google.com/github/ych1997/CS/blob/master/final_hw_2.ipynb\" target=\"_parent\"><img src=\"https://colab.research.google.com/assets/colab-badge.svg\" alt=\"Open In Colab\"/></a>"
      ]
    },
    {
      "cell_type": "markdown",
      "metadata": {
        "id": "E6sVCdv3839h",
        "colab_type": "text"
      },
      "source": [
        "1: 切換 TensorFlow 版本至 2.x"
      ]
    },
    {
      "cell_type": "code",
      "metadata": {
        "id": "KWYpoY-88z3q",
        "colab_type": "code",
        "colab": {}
      },
      "source": [
        "%tensorflow_version 2.x"
      ],
      "execution_count": 0,
      "outputs": []
    },
    {
      "cell_type": "markdown",
      "metadata": {
        "id": "mvZj-XVNQaUr",
        "colab_type": "text"
      },
      "source": [
        "2: 載入套件及資料集"
      ]
    },
    {
      "cell_type": "code",
      "metadata": {
        "id": "jF4kC9sg88t6",
        "colab_type": "code",
        "colab": {}
      },
      "source": [
        "# Import some useful packages\n",
        "import matplotlib.pyplot as plt\n",
        "import numpy as np\n",
        "\n",
        "# Layers for FNN\n",
        "from tensorflow.keras.models import Sequential\n",
        "from tensorflow.keras.layers import Dense\n",
        "from tensorflow.keras.layers import Flatten\n",
        "\n",
        "# Layers for CNN\n",
        "from tensorflow.keras.layers import Conv2D, MaxPool2D, GlobalAveragePooling2D\n",
        "\n",
        "from tensorflow.keras.optimizers import SGD, Adam\n",
        "\n",
        "# For data preprocessing\n",
        "from tensorflow.keras import datasets\n",
        "from tensorflow.keras.utils import to_categorical\n",
        "\n",
        "#mnist\n",
        "from tensorflow.keras.datasets import mnist"
      ],
      "execution_count": 0,
      "outputs": []
    },
    {
      "cell_type": "markdown",
      "metadata": {
        "id": "mvHYVsVSQg99",
        "colab_type": "text"
      },
      "source": [
        "# 3: 資料前處理 (Data Preprocessing)"
      ]
    },
    {
      "cell_type": "code",
      "metadata": {
        "id": "kXtQGmhkQh-C",
        "colab_type": "code",
        "colab": {}
      },
      "source": [
        "name_list = ['0', '1', '2', '3', '4', '5', '6', '7', '8', '9']"
      ],
      "execution_count": 0,
      "outputs": []
    },
    {
      "cell_type": "code",
      "metadata": {
        "id": "hgfoRGFRQsoR",
        "colab_type": "code",
        "colab": {}
      },
      "source": [
        "# Load CIFAR 10\n",
        "(X_train, y_train0), (X_test, y_test0) = mnist.load_data()\n",
        "\n",
        "# Normalize the range of featurs\n",
        "X_train = X_train / X_train.max()\n",
        "X_test = X_test / X_test.max()\n",
        "\n",
        "# One-hot encoding\n",
        "y_train = to_categorical(y_train0, 10)\n",
        "y_test = to_categorical(y_test0, 10)"
      ],
      "execution_count": 0,
      "outputs": []
    },
    {
      "cell_type": "code",
      "metadata": {
        "id": "Cuetv0gIQuIV",
        "colab_type": "code",
        "outputId": "36fd0222-f9b6-4de9-be9e-e0d92a19ebf5",
        "colab": {
          "base_uri": "https://localhost:8080/",
          "height": 264
        }
      },
      "source": [
        "idx = np.random.randint(X_train.shape[0])\n",
        "X_sample = X_train[idx]\n",
        "y_sample = y_train0[idx].squeeze()\n",
        "\n",
        "plt.imshow(X_sample)\n",
        "plt.title(name_list[y_sample])\n",
        "plt.axis('off');"
      ],
      "execution_count": 5,
      "outputs": [
        {
          "output_type": "display_data",
          "data": {
            "image/png": "[encoded data removed]",
            "text/plain": [
              "<Figure size 432x288 with 1 Axes>"
            ]
          },
          "metadata": {
            "tags": [],
            "needs_background": "light"
          }
        }
      ]
    },
    {
      "cell_type": "code",
      "metadata": {
        "id": "bfrSpKRgFW1r",
        "colab_type": "code",
        "outputId": "82ba4c24-7160-4d19-f6a4-d33c58515045",
        "colab": {
          "base_uri": "https://localhost:8080/",
          "height": 34
        }
      },
      "source": [
        "X_train[87].shape"
      ],
      "execution_count": 6,
      "outputs": [
        {
          "output_type": "execute_result",
          "data": {
            "text/plain": [
              "(28, 28)"
            ]
          },
          "metadata": {
            "tags": []
          },
          "execution_count": 6
        }
      ]
    },
    {
      "cell_type": "code",
      "metadata": {
        "id": "Y-oUdu3mFn2E",
        "colab_type": "code",
        "colab": {}
      },
      "source": [
        "X_train=X_train.reshape(60000,28,28,1)#正規化\n",
        "X_test=X_test.reshape(10000,28,28,1)#正規化"
      ],
      "execution_count": 0,
      "outputs": []
    },
    {
      "cell_type": "code",
      "metadata": {
        "id": "Jd-nJ_sRF08C",
        "colab_type": "code",
        "outputId": "ef8d9e8f-59c6-4652-a862-0dd206cbce7c",
        "colab": {
          "base_uri": "https://localhost:8080/",
          "height": 34
        }
      },
      "source": [
        "X_train[87].shape"
      ],
      "execution_count": 8,
      "outputs": [
        {
          "output_type": "execute_result",
          "data": {
            "text/plain": [
              "(28, 28, 1)"
            ]
          },
          "metadata": {
            "tags": []
          },
          "execution_count": 8
        }
      ]
    },
    {
      "cell_type": "markdown",
      "metadata": {
        "id": "f9JOFHjPQzXh",
        "colab_type": "text"
      },
      "source": [
        "# 4: 建立用於分類 CIFAR 10 的卷積神經網路\n",
        "在這個部分，我們將逐步帶領大家建立經典的 CNN 模型 LeNet-5 的變形。\n",
        "LeNet-5 分成兩個部分，分別為卷積層與全連接層，兩部份之間是透過扁平層 (Flatten) ，將卷積層最後輸出的 2 維向量壓扁成 1 維向量。"
      ]
    },
    {
      "cell_type": "code",
      "metadata": {
        "id": "39P-JSnoQv9r",
        "colab_type": "code",
        "colab": {}
      },
      "source": [
        "model = Sequential()\n",
        "\n",
        "# First convolutional block\n",
        "model.add(Conv2D(16, (3, 3), input_shape=(28, 28,1), padding='same', activation='relu'))\n",
        "model.add(MaxPool2D())\n",
        "\n",
        "# Second convolutional block\n",
        "model.add(Conv2D(32, (3, 3), padding='same', activation='relu'))\n",
        "model.add(MaxPool2D())\n",
        "\n",
        "# Third convolutional block\n",
        "model.add(Conv2D(64, (3, 3), padding='same', activation='relu'))\n",
        "model.add(GlobalAveragePooling2D()) #全域平均池化層\n",
        "\n",
        "# Fully-connected layers as a classfier\n",
        "model.add(Dense(units=54, activation='relu'))\n",
        "\n",
        "# Ouput layer: # of neurons = # of classes with softmax activation\n",
        "model.add(Dense(units=10, activation='softmax')) #輸出是固定的"
      ],
      "execution_count": 0,
      "outputs": []
    },
    {
      "cell_type": "code",
      "metadata": {
        "id": "m5Tvz90EQ4Bf",
        "colab_type": "code",
        "outputId": "013ae2cc-5cb8-426e-897d-3af6cec98b0d",
        "colab": {
          "base_uri": "https://localhost:8080/",
          "height": 425
        }
      },
      "source": [
        "model.summary()"
      ],
      "execution_count": 10,
      "outputs": [
        {
          "output_type": "stream",
          "text": [
            "Model: \"sequential\"\n",
            "_________________________________________________________________\n",
            "Layer (type)                 Output Shape              Param #   \n",
            "=================================================================\n",
            "conv2d (Conv2D)              (None, 28, 28, 16)        160       \n",
            "_________________________________________________________________\n",
            "max_pooling2d (MaxPooling2D) (None, 14, 14, 16)        0         \n",
            "_________________________________________________________________\n",
            "conv2d_1 (Conv2D)            (None, 14, 14, 32)        4640      \n",
            "_________________________________________________________________\n",
            "max_pooling2d_1 (MaxPooling2 (None, 7, 7, 32)          0         \n",
            "_________________________________________________________________\n",
            "conv2d_2 (Conv2D)            (None, 7, 7, 64)          18496     \n",
            "_________________________________________________________________\n",
            "global_average_pooling2d (Gl (None, 64)                0         \n",
            "_________________________________________________________________\n",
            "dense (Dense)                (None, 54)                3510      \n",
            "_________________________________________________________________\n",
            "dense_1 (Dense)              (None, 10)                550       \n",
            "=================================================================\n",
            "Total params: 27,356\n",
            "Trainable params: 27,356\n",
            "Non-trainable params: 0\n",
            "_________________________________________________________________\n"
          ],
          "name": "stdout"
        }
      ]
    },
    {
      "cell_type": "markdown",
      "metadata": {
        "id": "dJbJdklCQ8Am",
        "colab_type": "text"
      },
      "source": [
        "# 編譯模型: 設定模型訓練時的設定\n",
        "\n",
        "Optimizer: Stochastic Gradient Descent (SGD)\n",
        "Loss: categorical cross-entropy"
      ]
    },
    {
      "cell_type": "code",
      "metadata": {
        "id": "ZXzmXpQOQ5qG",
        "colab_type": "code",
        "colab": {}
      },
      "source": [
        "model.compile(loss='categorical_crossentropy', \n",
        "              optimizer=Adam(),\n",
        "              metrics=['categorical_accuracy'])"
      ],
      "execution_count": 0,
      "outputs": []
    },
    {
      "cell_type": "markdown",
      "metadata": {
        "id": "j6kjRQKJRA3h",
        "colab_type": "text"
      },
      "source": [
        "# 訓練模型: 透過訓練來學習分類資料的函數"
      ]
    },
    {
      "cell_type": "code",
      "metadata": {
        "id": "EgZWrDCsQ-zl",
        "colab_type": "code",
        "outputId": "77044637-5c0b-4164-e92f-977f3c5d7730",
        "colab": {
          "base_uri": "https://localhost:8080/",
          "height": 1000
        }
      },
      "source": [
        "model.fit(X_train, y_train, \n",
        "          batch_size=128, \n",
        "          epochs=3,\n",
        "          validation_data=(X_test, y_test)\n",
        "          )"
      ],
      "execution_count": 12,
      "outputs": [
        {
          "output_type": "stream",
          "text": [
            "Epoch 1/3\n",
            "469/469 [==============================] - 41s 88ms/step - loss: 0.9612 - categorical_accuracy: 0.6811 - val_loss: 0.3719 - val_categorical_accuracy: 0.8934\n",
            "Epoch 2/3\n",
            "469/469 [==============================] - 41s 87ms/step - loss: 0.2875 - categorical_accuracy: 0.9154 - val_loss: 0.2212 - val_categorical_accuracy: 0.9302\n",
            "Epoch 3/3\n",
            "469/469 [==============================] - 41s 87ms/step - loss: 0.2109 - categorical_accuracy: 0.9364 - val_loss: 0.1921 - val_categorical_accuracy: 0.9449\n"
          ],
          "name": "stdout"
        },
        {
          "output_type": "execute_result",
          "data": {
            "text/plain": [
              "<tensorflow.python.keras.callbacks.History at 0x7f5416f7d978>"
            ]
          },
          "metadata": {
            "tags": []
          },
          "execution_count": 12
        }
      ]
    },
    {
      "cell_type": "code",
      "metadata": {
        "id": "j7AzaCekRD4T",
        "colab_type": "code",
        "colab": {}
      },
      "source": [
        "model.save_weights('LeNet5_CIFAR10.h5')"
      ],
      "execution_count": 0,
      "outputs": []
    },
    {
      "cell_type": "markdown",
      "metadata": {
        "id": "VyfaGGrKS8am",
        "colab_type": "text"
      },
      "source": [
        "模型預測: 預測資料集的準確率"
      ]
    },
    {
      "cell_type": "code",
      "metadata": {
        "id": "aWdNYS1dS9Kw",
        "colab_type": "code",
        "colab": {
          "base_uri": "https://localhost:8080/",
          "height": 85
        },
        "outputId": "f1cb4e58-deac-48c3-e086-53b0739b62b4"
      },
      "source": [
        "model.load_weights('LeNet5_CIFAR10.h5')\n",
        "\n",
        "score_train = model.evaluate(X_train, y_train)\n",
        "score_test = model.evaluate(X_test, y_test)\n",
        "\n",
        "print(f'Train Accuracy: {score_train[1]*100}')\n",
        "print(f'Test Accuracy: {score_test[1]*100}')"
      ],
      "execution_count": 14,
      "outputs": [
        {
          "output_type": "stream",
          "text": [
            "1875/1875 [==============================] - 19s 10ms/step - loss: 0.2109 - categorical_accuracy: 0.9380\n",
            "313/313 [==============================] - 3s 10ms/step - loss: 0.1921 - categorical_accuracy: 0.9449\n",
            "Train Accuracy: 93.80000233650208\n",
            "Test Accuracy: 94.48999762535095\n"
          ],
          "name": "stdout"
        }
      ]
    },
    {
      "cell_type": "code",
      "metadata": {
        "id": "PhIS4GWgS_eY",
        "colab_type": "code",
        "colab": {
          "base_uri": "https://localhost:8080/",
          "height": 153
        },
        "outputId": "46593e3d-cd33-476d-c571-152b32215c8b"
      },
      "source": [
        "model.layers"
      ],
      "execution_count": 15,
      "outputs": [
        {
          "output_type": "execute_result",
          "data": {
            "text/plain": [
              "[<tensorflow.python.keras.layers.convolutional.Conv2D at 0x7f541d232358>,\n",
              " <tensorflow.python.keras.layers.pooling.MaxPooling2D at 0x7f541d232c88>,\n",
              " <tensorflow.python.keras.layers.convolutional.Conv2D at 0x7f541d232be0>,\n",
              " <tensorflow.python.keras.layers.pooling.MaxPooling2D at 0x7f541ca172b0>,\n",
              " <tensorflow.python.keras.layers.convolutional.Conv2D at 0x7f541d232cc0>,\n",
              " <tensorflow.python.keras.layers.pooling.GlobalAveragePooling2D at 0x7f5416f8f710>,\n",
              " <tensorflow.python.keras.layers.core.Dense at 0x7f541ca17748>,\n",
              " <tensorflow.python.keras.layers.core.Dense at 0x7f541ca17c18>]"
            ]
          },
          "metadata": {
            "tags": []
          },
          "execution_count": 15
        }
      ]
    },
    {
      "cell_type": "markdown",
      "metadata": {
        "id": "eKrLipEATDdR",
        "colab_type": "text"
      },
      "source": [
        "# 5: 另一種使用 Sequential 建立模型的方式"
      ]
    },
    {
      "cell_type": "code",
      "metadata": {
        "id": "ey8Yq7s3TBpX",
        "colab_type": "code",
        "colab": {}
      },
      "source": [
        "CNN_layers = [Conv2D(16, (3, 3), input_shape=(28, 28, 1), padding='same', activation='relu', name='Conv_1'),\n",
        "              MaxPool2D(),\n",
        "              Conv2D(32, (3, 3), padding='same', activation='relu', name='Conv_2'),\n",
        "              MaxPool2D(),\n",
        "              Conv2D(64, (3, 3), padding='same', activation='relu', name='Conv_3'),\n",
        "              GlobalAveragePooling2D()]\n",
        "\n",
        "FC_layers = [Dense(units=54, activation='relu'),\n",
        "             Dense(units=10, activation='softmax')]"
      ],
      "execution_count": 0,
      "outputs": []
    },
    {
      "cell_type": "code",
      "metadata": {
        "id": "TwQ2MBfrTGNY",
        "colab_type": "code",
        "colab": {
          "base_uri": "https://localhost:8080/",
          "height": 153
        },
        "outputId": "5e8da655-ee7f-436f-952f-6e55bf678715"
      },
      "source": [
        "CNN_layers + FC_layers"
      ],
      "execution_count": 17,
      "outputs": [
        {
          "output_type": "execute_result",
          "data": {
            "text/plain": [
              "[<tensorflow.python.keras.layers.convolutional.Conv2D at 0x7f54140925c0>,\n",
              " <tensorflow.python.keras.layers.pooling.MaxPooling2D at 0x7f5412877b00>,\n",
              " <tensorflow.python.keras.layers.convolutional.Conv2D at 0x7f541d75d9b0>,\n",
              " <tensorflow.python.keras.layers.pooling.MaxPooling2D at 0x7f5412877b38>,\n",
              " <tensorflow.python.keras.layers.convolutional.Conv2D at 0x7f5414092b00>,\n",
              " <tensorflow.python.keras.layers.pooling.GlobalAveragePooling2D at 0x7f541c9ebf98>,\n",
              " <tensorflow.python.keras.layers.core.Dense at 0x7f5416f8fbe0>,\n",
              " <tensorflow.python.keras.layers.core.Dense at 0x7f5412877da0>]"
            ]
          },
          "metadata": {
            "tags": []
          },
          "execution_count": 17
        }
      ]
    },
    {
      "cell_type": "code",
      "metadata": {
        "id": "P0grCAt6TH3f",
        "colab_type": "code",
        "colab": {
          "base_uri": "https://localhost:8080/",
          "height": 425
        },
        "outputId": "39fcfd81-2b0a-43ad-fe7a-c05713006be2"
      },
      "source": [
        "model.summary()"
      ],
      "execution_count": 18,
      "outputs": [
        {
          "output_type": "stream",
          "text": [
            "Model: \"sequential\"\n",
            "_________________________________________________________________\n",
            "Layer (type)                 Output Shape              Param #   \n",
            "=================================================================\n",
            "conv2d (Conv2D)              (None, 28, 28, 16)        160       \n",
            "_________________________________________________________________\n",
            "max_pooling2d (MaxPooling2D) (None, 14, 14, 16)        0         \n",
            "_________________________________________________________________\n",
            "conv2d_1 (Conv2D)            (None, 14, 14, 32)        4640      \n",
            "_________________________________________________________________\n",
            "max_pooling2d_1 (MaxPooling2 (None, 7, 7, 32)          0         \n",
            "_________________________________________________________________\n",
            "conv2d_2 (Conv2D)            (None, 7, 7, 64)          18496     \n",
            "_________________________________________________________________\n",
            "global_average_pooling2d (Gl (None, 64)                0         \n",
            "_________________________________________________________________\n",
            "dense (Dense)                (None, 54)                3510      \n",
            "_________________________________________________________________\n",
            "dense_1 (Dense)              (None, 10)                550       \n",
            "=================================================================\n",
            "Total params: 27,356\n",
            "Trainable params: 27,356\n",
            "Non-trainable params: 0\n",
            "_________________________________________________________________\n"
          ],
          "name": "stdout"
        }
      ]
    },
    {
      "cell_type": "code",
      "metadata": {
        "id": "CMr17P44TJOy",
        "colab_type": "code",
        "colab": {
          "base_uri": "https://localhost:8080/",
          "height": 425
        },
        "outputId": "53c882f9-32dc-4334-a390-beaa51d0cb1b"
      },
      "source": [
        "model_2 = Sequential(CNN_layers+FC_layers)\n",
        "model_2.summary()"
      ],
      "execution_count": 19,
      "outputs": [
        {
          "output_type": "stream",
          "text": [
            "Model: \"sequential_1\"\n",
            "_________________________________________________________________\n",
            "Layer (type)                 Output Shape              Param #   \n",
            "=================================================================\n",
            "Conv_1 (Conv2D)              (None, 28, 28, 16)        160       \n",
            "_________________________________________________________________\n",
            "max_pooling2d_2 (MaxPooling2 (None, 14, 14, 16)        0         \n",
            "_________________________________________________________________\n",
            "Conv_2 (Conv2D)              (None, 14, 14, 32)        4640      \n",
            "_________________________________________________________________\n",
            "max_pooling2d_3 (MaxPooling2 (None, 7, 7, 32)          0         \n",
            "_________________________________________________________________\n",
            "Conv_3 (Conv2D)              (None, 7, 7, 64)          18496     \n",
            "_________________________________________________________________\n",
            "global_average_pooling2d_1 ( (None, 64)                0         \n",
            "_________________________________________________________________\n",
            "dense_2 (Dense)              (None, 54)                3510      \n",
            "_________________________________________________________________\n",
            "dense_3 (Dense)              (None, 10)                550       \n",
            "=================================================================\n",
            "Total params: 27,356\n",
            "Trainable params: 27,356\n",
            "Non-trainable params: 0\n",
            "_________________________________________________________________\n"
          ],
          "name": "stdout"
        }
      ]
    },
    {
      "cell_type": "markdown",
      "metadata": {
        "id": "MjxChNJGjijM",
        "colab_type": "text"
      },
      "source": [
        "# 與使用 model.add 建立模型的差異？"
      ]
    },
    {
      "cell_type": "code",
      "metadata": {
        "id": "mTQDP6yGTKqu",
        "colab_type": "code",
        "colab": {}
      },
      "source": [
        "model_2.compile(loss='categorical_crossentropy', \n",
        "                optimizer=Adam(),\n",
        "                metrics=['categorical_accuracy'])\n",
        "\n",
        "model_2.load_weights('LeNet5_CIFAR10.h5')"
      ],
      "execution_count": 0,
      "outputs": []
    },
    {
      "cell_type": "code",
      "metadata": {
        "id": "nrM4j2-SjlLS",
        "colab_type": "code",
        "colab": {
          "base_uri": "https://localhost:8080/",
          "height": 85
        },
        "outputId": "5f23277e-ad1a-45e9-a4f6-5c280bb61f9f"
      },
      "source": [
        "score_train = model_2.evaluate(X_train, y_train, batch_size=1024)\n",
        "score_test = model_2.evaluate(X_test, y_test, batch_size=1024)\n",
        "\n",
        "print(f'Train Accuracy: {score_train[1]*100}')\n",
        "print(f'Test Accuracy: {score_test[1]*100}')"
      ],
      "execution_count": 21,
      "outputs": [
        {
          "output_type": "stream",
          "text": [
            "59/59 [==============================] - 12s 195ms/step - loss: 0.2109 - categorical_accuracy: 0.9380\n",
            "10/10 [==============================] - 2s 174ms/step - loss: 0.1921 - categorical_accuracy: 0.9449\n",
            "Train Accuracy: 93.80000233650208\n",
            "Test Accuracy: 94.48999762535095\n"
          ],
          "name": "stdout"
        }
      ]
    },
    {
      "cell_type": "markdown",
      "metadata": {
        "id": "AqrofzFRjpAy",
        "colab_type": "text"
      },
      "source": [
        "# 6: 遷移學習 (Transfer Learning) 中的 Layer Transfer 的技巧"
      ]
    },
    {
      "cell_type": "code",
      "metadata": {
        "id": "CA0RshULjxpa",
        "colab_type": "code",
        "colab": {
          "base_uri": "https://localhost:8080/",
          "height": 34
        },
        "outputId": "2dda78fc-c2d5-4e38-e51b-64afa177452e"
      },
      "source": [
        "import keras\n",
        "# Load fashion data\n",
        "fashion_mnist=keras.datasets.fashion_mnist\n",
        "(U_train, v_train0), (U_test, v_test0) = fashion_mnist.load_data()\n",
        "\n",
        "# Normalize the range of featurs\n",
        "U_train = U_train / U_train.max()\n",
        "U_test = U_test / U_test.max()\n",
        "\n",
        "# One-hot encoding\n",
        "v_train = to_categorical(v_train0, 10)\n",
        "v_test = to_categorical(v_test0, 10)"
      ],
      "execution_count": 22,
      "outputs": [
        {
          "output_type": "stream",
          "text": [
            "Using TensorFlow backend.\n"
          ],
          "name": "stderr"
        }
      ]
    },
    {
      "cell_type": "code",
      "metadata": {
        "id": "2kpd7Mj1H0Wb",
        "colab_type": "code",
        "colab": {
          "base_uri": "https://localhost:8080/",
          "height": 34
        },
        "outputId": "0c23b3c5-6ac5-4b3c-dbc3-4e7568e9e3be"
      },
      "source": [
        "U_train[87].shape"
      ],
      "execution_count": 23,
      "outputs": [
        {
          "output_type": "execute_result",
          "data": {
            "text/plain": [
              "(28, 28)"
            ]
          },
          "metadata": {
            "tags": []
          },
          "execution_count": 23
        }
      ]
    },
    {
      "cell_type": "code",
      "metadata": {
        "id": "hPM_XPZrH8ah",
        "colab_type": "code",
        "colab": {}
      },
      "source": [
        "U_train=U_train.reshape(60000,28,28,1)\n",
        "U_test=U_test.reshape(10000,28,28,1)"
      ],
      "execution_count": 0,
      "outputs": []
    },
    {
      "cell_type": "code",
      "metadata": {
        "id": "hCQrcC-JIMs2",
        "colab_type": "code",
        "colab": {
          "base_uri": "https://localhost:8080/",
          "height": 34
        },
        "outputId": "ba6836a5-1e0e-4086-bf57-a8f4f13b46ed"
      },
      "source": [
        "U_train[87].shape"
      ],
      "execution_count": 25,
      "outputs": [
        {
          "output_type": "execute_result",
          "data": {
            "text/plain": [
              "(28, 28, 1)"
            ]
          },
          "metadata": {
            "tags": []
          },
          "execution_count": 25
        }
      ]
    },
    {
      "cell_type": "code",
      "metadata": {
        "id": "90TPmgrLjyRx",
        "colab_type": "code",
        "colab": {}
      },
      "source": [
        "CNN_layers = [Conv2D(16, (3, 3), input_shape=(28, 28, 1), padding='same', activation='relu', name='Conv_1'),\n",
        "              MaxPool2D(),\n",
        "              Conv2D(32, (3, 3), padding='same', activation='relu', name='Conv_2'),\n",
        "              MaxPool2D(),\n",
        "              Conv2D(64, (3, 3), padding='same', activation='relu', name='Conv_3'),\n",
        "              GlobalAveragePooling2D()]\n",
        " \n",
        "FC_layers = [Dense(units=54, activation='relu'),\n",
        "             Dense(units=10, activation='softmax')]"
      ],
      "execution_count": 0,
      "outputs": []
    },
    {
      "cell_type": "markdown",
      "metadata": {
        "id": "GBXY3HIlj1w-",
        "colab_type": "text"
      },
      "source": [
        "LeNet-5 for CIFAR-100"
      ]
    },
    {
      "cell_type": "code",
      "metadata": {
        "id": "8jwSpCcLjzup",
        "colab_type": "code",
        "colab": {}
      },
      "source": [
        "# From LeNet-5 for CIFAR-10\n",
        "CNN_layers\n",
        " \n",
        "# New FC layers for CIFAR-100\n",
        "FC_layers_fashion = [Dense(units=15, activation='relu'),\n",
        "                   Dense(units=30, activation='relu'),\n",
        "                   Dense(units=10, activation='softmax')]"
      ],
      "execution_count": 0,
      "outputs": []
    },
    {
      "cell_type": "markdown",
      "metadata": {
        "id": "4gQnKLGvj4Nn",
        "colab_type": "text"
      },
      "source": [
        "CNN_layers 是跟人家借來的。"
      ]
    },
    {
      "cell_type": "code",
      "metadata": {
        "id": "QvFilG4nj5rQ",
        "colab_type": "code",
        "colab": {}
      },
      "source": [
        "FC_layers_fashion = [Dense(units=15, activation='relu'),\n",
        "                   Dense(units=30, activation='relu'),\n",
        "                   Dense(units=10, activation='softmax')]"
      ],
      "execution_count": 0,
      "outputs": []
    },
    {
      "cell_type": "code",
      "metadata": {
        "id": "umU6-JwNj7aU",
        "colab_type": "code",
        "colab": {
          "base_uri": "https://localhost:8080/",
          "height": 459
        },
        "outputId": "64f04983-ee1a-471c-bf28-dd1de8b76576"
      },
      "source": [
        "model_fashion = Sequential(CNN_layers+FC_layers_fashion)\n",
        "model_fashion.summary()"
      ],
      "execution_count": 29,
      "outputs": [
        {
          "output_type": "stream",
          "text": [
            "Model: \"sequential_2\"\n",
            "_________________________________________________________________\n",
            "Layer (type)                 Output Shape              Param #   \n",
            "=================================================================\n",
            "Conv_1 (Conv2D)              (None, 28, 28, 16)        160       \n",
            "_________________________________________________________________\n",
            "max_pooling2d_4 (MaxPooling2 (None, 14, 14, 16)        0         \n",
            "_________________________________________________________________\n",
            "Conv_2 (Conv2D)              (None, 14, 14, 32)        4640      \n",
            "_________________________________________________________________\n",
            "max_pooling2d_5 (MaxPooling2 (None, 7, 7, 32)          0         \n",
            "_________________________________________________________________\n",
            "Conv_3 (Conv2D)              (None, 7, 7, 64)          18496     \n",
            "_________________________________________________________________\n",
            "global_average_pooling2d_2 ( (None, 64)                0         \n",
            "_________________________________________________________________\n",
            "dense_9 (Dense)              (None, 15)                975       \n",
            "_________________________________________________________________\n",
            "dense_10 (Dense)             (None, 30)                480       \n",
            "_________________________________________________________________\n",
            "dense_11 (Dense)             (None, 10)                310       \n",
            "=================================================================\n",
            "Total params: 25,061\n",
            "Trainable params: 25,061\n",
            "Non-trainable params: 0\n",
            "_________________________________________________________________\n"
          ],
          "name": "stdout"
        }
      ]
    },
    {
      "cell_type": "markdown",
      "metadata": {
        "id": "EFTZfHDjj-VX",
        "colab_type": "text"
      },
      "source": [
        "對照一下和 LeNet-5 for CIFAR-10 的差別"
      ]
    },
    {
      "cell_type": "code",
      "metadata": {
        "id": "lAOZEDoPj8ro",
        "colab_type": "code",
        "colab": {
          "base_uri": "https://localhost:8080/",
          "height": 425
        },
        "outputId": "de22ea26-64fd-4679-8f65-9ebd008edf67"
      },
      "source": [
        "model_2.summary()"
      ],
      "execution_count": 30,
      "outputs": [
        {
          "output_type": "stream",
          "text": [
            "Model: \"sequential_1\"\n",
            "_________________________________________________________________\n",
            "Layer (type)                 Output Shape              Param #   \n",
            "=================================================================\n",
            "Conv_1 (Conv2D)              (None, 28, 28, 16)        160       \n",
            "_________________________________________________________________\n",
            "max_pooling2d_2 (MaxPooling2 (None, 14, 14, 16)        0         \n",
            "_________________________________________________________________\n",
            "Conv_2 (Conv2D)              (None, 14, 14, 32)        4640      \n",
            "_________________________________________________________________\n",
            "max_pooling2d_3 (MaxPooling2 (None, 7, 7, 32)          0         \n",
            "_________________________________________________________________\n",
            "Conv_3 (Conv2D)              (None, 7, 7, 64)          18496     \n",
            "_________________________________________________________________\n",
            "global_average_pooling2d_1 ( (None, 64)                0         \n",
            "_________________________________________________________________\n",
            "dense_2 (Dense)              (None, 54)                3510      \n",
            "_________________________________________________________________\n",
            "dense_3 (Dense)              (None, 10)                550       \n",
            "=================================================================\n",
            "Total params: 27,356\n",
            "Trainable params: 27,356\n",
            "Non-trainable params: 0\n",
            "_________________________________________________________________\n"
          ],
          "name": "stdout"
        }
      ]
    },
    {
      "cell_type": "markdown",
      "metadata": {
        "id": "EXZLxAgxkFHd",
        "colab_type": "text"
      },
      "source": [
        "遷移學習的訓練方式\n",
        "\n",
        "Fine-tune: 新資料集的樣本數夠多，整個模型重新訓練\n",
        "\n",
        "Frozen: 當新資料集的樣本數不夠多，凍結借來的部分，只針對新建立的神經網路層訓練"
      ]
    },
    {
      "cell_type": "code",
      "metadata": {
        "id": "bwBkVzmGkAzM",
        "colab_type": "code",
        "colab": {}
      },
      "source": [
        "for layer in CNN_layers:\n",
        "    layer.trainable = False"
      ],
      "execution_count": 0,
      "outputs": []
    },
    {
      "cell_type": "code",
      "metadata": {
        "id": "kzft8cZ-kVdj",
        "colab_type": "code",
        "colab": {
          "base_uri": "https://localhost:8080/",
          "height": 459
        },
        "outputId": "c937dd3d-4b1b-4ad1-cb8a-083ce434aad8"
      },
      "source": [
        "model_fashion.summary()"
      ],
      "execution_count": 32,
      "outputs": [
        {
          "output_type": "stream",
          "text": [
            "Model: \"sequential_2\"\n",
            "_________________________________________________________________\n",
            "Layer (type)                 Output Shape              Param #   \n",
            "=================================================================\n",
            "Conv_1 (Conv2D)              (None, 28, 28, 16)        160       \n",
            "_________________________________________________________________\n",
            "max_pooling2d_4 (MaxPooling2 (None, 14, 14, 16)        0         \n",
            "_________________________________________________________________\n",
            "Conv_2 (Conv2D)              (None, 14, 14, 32)        4640      \n",
            "_________________________________________________________________\n",
            "max_pooling2d_5 (MaxPooling2 (None, 7, 7, 32)          0         \n",
            "_________________________________________________________________\n",
            "Conv_3 (Conv2D)              (None, 7, 7, 64)          18496     \n",
            "_________________________________________________________________\n",
            "global_average_pooling2d_2 ( (None, 64)                0         \n",
            "_________________________________________________________________\n",
            "dense_9 (Dense)              (None, 15)                975       \n",
            "_________________________________________________________________\n",
            "dense_10 (Dense)             (None, 30)                480       \n",
            "_________________________________________________________________\n",
            "dense_11 (Dense)             (None, 10)                310       \n",
            "=================================================================\n",
            "Total params: 25,061\n",
            "Trainable params: 1,765\n",
            "Non-trainable params: 23,296\n",
            "_________________________________________________________________\n"
          ],
          "name": "stdout"
        }
      ]
    },
    {
      "cell_type": "code",
      "metadata": {
        "id": "nno1_VT5kWEp",
        "colab_type": "code",
        "colab": {
          "base_uri": "https://localhost:8080/",
          "height": 1000
        },
        "outputId": "7e2978fc-4721-4bc3-90cd-fd74e1bb8499"
      },
      "source": [
        "model_fashion.compile(loss='categorical_crossentropy', \n",
        "                    optimizer=Adam(),\n",
        "                    metrics=['categorical_accuracy'])\n",
        "\n",
        "model_fashion.fit(U_train, v_train,\n",
        "                batch_size=128, \n",
        "                epochs=5,\n",
        "                validation_data=(U_test, v_test)\n",
        "                )"
      ],
      "execution_count": 33,
      "outputs": [
        {
          "output_type": "stream",
          "text": [
            "Epoch 1/5\n",
            "469/469 [==============================] - 16s 34ms/step - loss: 2.1032 - categorical_accuracy: 0.2291 - val_loss: 1.8348 - val_categorical_accuracy: 0.3292\n",
            "Epoch 2/5\n",
            "469/469 [==============================] - 16s 34ms/step - loss: 1.5961 - categorical_accuracy: 0.4028 - val_loss: 1.3847 - val_categorical_accuracy: 0.4676\n",
            "Epoch 3/5\n",
            "469/469 [==============================] - 16s 33ms/step - loss: 1.2778 - categorical_accuracy: 0.5207 - val_loss: 1.2115 - val_categorical_accuracy: 0.5503\n",
            "Epoch 4/5\n",
            "469/469 [==============================] - 16s 33ms/step - loss: 1.1565 - categorical_accuracy: 0.5701 - val_loss: 1.1267 - val_categorical_accuracy: 0.5818\n",
            "Epoch 5/5\n",
            "469/469 [==============================] - 16s 34ms/step - loss: 1.0847 - categorical_accuracy: 0.6036 - val_loss: 1.0705 - val_categorical_accuracy: 0.6189\n"
          ],
          "name": "stdout"
        },
        {
          "output_type": "execute_result",
          "data": {
            "text/plain": [
              "<tensorflow.python.keras.callbacks.History at 0x7f54134d5160>"
            ]
          },
          "metadata": {
            "tags": []
          },
          "execution_count": 33
        }
      ]
    },
    {
      "cell_type": "markdown",
      "metadata": {
        "id": "EAZ1UF3hkaU1",
        "colab_type": "text"
      },
      "source": [
        "# 借來的神經網路 (的權重) 會如何變化？Frozen 的場合"
      ]
    },
    {
      "cell_type": "code",
      "metadata": {
        "id": "FnRTrES8kYrW",
        "colab_type": "code",
        "colab": {
          "base_uri": "https://localhost:8080/",
          "height": 85
        },
        "outputId": "f780bbd6-f7f0-479f-bc95-699ad0697af5"
      },
      "source": [
        "score_train = model_2.evaluate(X_train, y_train)\n",
        "score_test = model_2.evaluate(X_test, y_test)\n",
        "\n",
        "print(f'Train Accuracy: {score_train[1]*100}')\n",
        "print(f'Test Accuracy: {score_test[1]*100}')"
      ],
      "execution_count": 34,
      "outputs": [
        {
          "output_type": "stream",
          "text": [
            "1875/1875 [==============================] - 23s 12ms/step - loss: 0.2109 - categorical_accuracy: 0.9380\n",
            "313/313 [==============================] - 3s 10ms/step - loss: 0.1921 - categorical_accuracy: 0.9449\n",
            "Train Accuracy: 93.80000233650208\n",
            "Test Accuracy: 94.48999762535095\n"
          ],
          "name": "stdout"
        }
      ]
    },
    {
      "cell_type": "markdown",
      "metadata": {
        "id": "zQfGs2m0kc2W",
        "colab_type": "text"
      },
      "source": [
        "借來的神經網路 (的權重) 會如何變化？Fine-tune 的場合"
      ]
    },
    {
      "cell_type": "code",
      "metadata": {
        "id": "mmZhJZvOkegw",
        "colab_type": "code",
        "colab": {
          "base_uri": "https://localhost:8080/",
          "height": 74
        },
        "outputId": "57af5845-45bc-4653-8be6-de0cee0241cf"
      },
      "source": [
        "for layer in CNN_layers:\n",
        "    layer.trainable = True\n",
        "\n",
        "model_fashion.fit(U_train, v_train,\n",
        "                batch_size=128, \n",
        "                epochs=1,\n",
        "                validation_data=(U_test, v_test)\n",
        "                )"
      ],
      "execution_count": 35,
      "outputs": [
        {
          "output_type": "stream",
          "text": [
            "469/469 [==============================] - 16s 34ms/step - loss: 1.0341 - categorical_accuracy: 0.6252 - val_loss: 1.0261 - val_categorical_accuracy: 0.6307\n"
          ],
          "name": "stdout"
        },
        {
          "output_type": "execute_result",
          "data": {
            "text/plain": [
              "<tensorflow.python.keras.callbacks.History at 0x7f541336c470>"
            ]
          },
          "metadata": {
            "tags": []
          },
          "execution_count": 35
        }
      ]
    },
    {
      "cell_type": "code",
      "metadata": {
        "id": "KBN80pWKkgIA",
        "colab_type": "code",
        "colab": {
          "base_uri": "https://localhost:8080/",
          "height": 459
        },
        "outputId": "89cc8bc2-5473-406a-e6e1-548eb3c5744f"
      },
      "source": [
        "model_fashion.summary()"
      ],
      "execution_count": 36,
      "outputs": [
        {
          "output_type": "stream",
          "text": [
            "Model: \"sequential_2\"\n",
            "_________________________________________________________________\n",
            "Layer (type)                 Output Shape              Param #   \n",
            "=================================================================\n",
            "Conv_1 (Conv2D)              (None, 28, 28, 16)        160       \n",
            "_________________________________________________________________\n",
            "max_pooling2d_4 (MaxPooling2 (None, 14, 14, 16)        0         \n",
            "_________________________________________________________________\n",
            "Conv_2 (Conv2D)              (None, 14, 14, 32)        4640      \n",
            "_________________________________________________________________\n",
            "max_pooling2d_5 (MaxPooling2 (None, 7, 7, 32)          0         \n",
            "_________________________________________________________________\n",
            "Conv_3 (Conv2D)              (None, 7, 7, 64)          18496     \n",
            "_________________________________________________________________\n",
            "global_average_pooling2d_2 ( (None, 64)                0         \n",
            "_________________________________________________________________\n",
            "dense_9 (Dense)              (None, 15)                975       \n",
            "_________________________________________________________________\n",
            "dense_10 (Dense)             (None, 30)                480       \n",
            "_________________________________________________________________\n",
            "dense_11 (Dense)             (None, 10)                310       \n",
            "=================================================================\n",
            "Total params: 25,061\n",
            "Trainable params: 25,061\n",
            "Non-trainable params: 0\n",
            "_________________________________________________________________\n"
          ],
          "name": "stdout"
        }
      ]
    },
    {
      "cell_type": "code",
      "metadata": {
        "id": "HVKFDUiakhbc",
        "colab_type": "code",
        "colab": {
          "base_uri": "https://localhost:8080/",
          "height": 85
        },
        "outputId": "9998f02f-f58a-4c15-f1fd-c7df3239998a"
      },
      "source": [
        "score_train = model_2.evaluate(X_train, y_train)\n",
        "score_test = model_2.evaluate(X_test, y_test)\n",
        "\n",
        "print(f'Train Accuracy: {score_train[1]*100}')\n",
        "print(f'Test Accuracy: {score_test[1]*100}')"
      ],
      "execution_count": 37,
      "outputs": [
        {
          "output_type": "stream",
          "text": [
            "1875/1875 [==============================] - 19s 10ms/step - loss: 0.2109 - categorical_accuracy: 0.9380\n",
            "313/313 [==============================] - 3s 10ms/step - loss: 0.1921 - categorical_accuracy: 0.9449\n",
            "Train Accuracy: 93.80000233650208\n",
            "Test Accuracy: 94.48999762535095\n"
          ],
          "name": "stdout"
        }
      ]
    },
    {
      "cell_type": "markdown",
      "metadata": {
        "id": "4QRV5BRfkmYy",
        "colab_type": "text"
      },
      "source": [
        "使用 Layer Transfer 的注意事項\n",
        "若目的不同 (如；分類總數不同)，則須重新定義不同的全連接層\n",
        "若資料的輸入尺寸不同 (如：channel 數不同)，則也需針對輸入的部分調整"
      ]
    }
  ]
}